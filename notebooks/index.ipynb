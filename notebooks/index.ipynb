{
 "cells": [
  {
   "cell_type": "code",
   "execution_count": null,
   "metadata": {},
   "outputs": [],
   "source": [
    "#| hide\n",
    "from pidinst_experiments.core import *"
   ]
  },
  {
   "attachments": {},
   "cell_type": "markdown",
   "metadata": {},
   "source": [
    "# Experiments with RDA PIDINST and PIDINST-SCHEMA\n",
    "\n",
    "> Creation of a simple ontology based on the RDA PIDINST schema."
   ]
  },
  {
   "attachments": {},
   "cell_type": "markdown",
   "metadata": {},
   "source": [
    "This repository contains some simple experiments with the RDA PIDINST schema and the creation of a simple ontology based on it. The schema is available at [rdawg-pidinst](https://github.com/rdawg-pidinst/schema/blob/master/schema.rst). The ontology is available at ![pidinst.ttl](data/pidinst.ttl) as well as SHACL shapes at ![pidinst-shapes.ttl](data/pidinst-shapes.ttl)."
   ]
  }
 ],
 "metadata": {
  "kernelspec": {
   "display_name": "python3",
   "language": "python",
   "name": "python3"
  }
 },
 "nbformat": 4,
 "nbformat_minor": 4
}
